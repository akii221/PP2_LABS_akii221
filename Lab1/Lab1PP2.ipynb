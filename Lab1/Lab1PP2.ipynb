{
 "cells": [
  {
   "cell_type": "markdown",
   "id": "a2864f10-e282-4d8f-a2aa-05b2c831cfa2",
   "metadata": {},
   "source": [
    "Python HOME"
   ]
  },
  {
   "cell_type": "code",
   "execution_count": 5,
   "id": "836ead79-bab0-4664-8802-c264fd2621f6",
   "metadata": {},
   "outputs": [
    {
     "name": "stdout",
     "output_type": "stream",
     "text": [
      "Hello World\n"
     ]
    }
   ],
   "source": [
    "print('Hello World')"
   ]
  },
  {
   "cell_type": "markdown",
   "id": "0245fe2f-b8b8-48ea-835b-bc4a1e2578fb",
   "metadata": {},
   "source": [
    "Python Intro"
   ]
  },
  {
   "cell_type": "code",
   "execution_count": 33,
   "id": "298ba0f9-aa29-486b-b3f5-4f084ba76a9d",
   "metadata": {},
   "outputs": [
    {
     "name": "stdout",
     "output_type": "stream",
     "text": [
      "hello world\n"
     ]
    }
   ],
   "source": [
    "print (\"hello world\")"
   ]
  },
  {
   "cell_type": "markdown",
   "id": "a804e749-7b92-47b7-80d3-064cd22f0892",
   "metadata": {},
   "source": [
    "Python Get Started "
   ]
  },
  {
   "cell_type": "code",
   "execution_count": 36,
   "id": "d4aa1844-f801-4c5a-adc5-85bdaba8c670",
   "metadata": {},
   "outputs": [
    {
     "name": "stdout",
     "output_type": "stream",
     "text": [
      "Hello lads and gents\n"
     ]
    }
   ],
   "source": [
    "print (\"Hello lads and gents\")"
   ]
  },
  {
   "cell_type": "markdown",
   "id": "fa9c4269-b923-416a-8aa1-9cfd199f80e3",
   "metadata": {},
   "source": [
    "Python Syntax"
   ]
  },
  {
   "cell_type": "code",
   "execution_count": 11,
   "id": "311c8c16-3e18-4302-882f-3aa1f39a5ed3",
   "metadata": {},
   "outputs": [
    {
     "name": "stdout",
     "output_type": "stream",
     "text": [
      "Ya krut\n"
     ]
    }
   ],
   "source": [
    "if 10 > 2: \n",
    "    print ('Ya krut')"
   ]
  },
  {
   "cell_type": "code",
   "execution_count": 13,
   "id": "d7c485aa-b63e-4a08-8bbc-5bb64ae15d52",
   "metadata": {},
   "outputs": [
    {
     "ename": "IndentationError",
     "evalue": "expected an indented block after 'if' statement on line 2 (3159059483.py, line 3)",
     "output_type": "error",
     "traceback": [
      "\u001b[1;36m  Cell \u001b[1;32mIn[13], line 3\u001b[1;36m\u001b[0m\n\u001b[1;33m    print ('ya ne krutoi')\u001b[0m\n\u001b[1;37m    ^\u001b[0m\n\u001b[1;31mIndentationError\u001b[0m\u001b[1;31m:\u001b[0m expected an indented block after 'if' statement on line 2\n"
     ]
    }
   ],
   "source": [
    "## The wrong one \n",
    "if 9 > 2:\n",
    "print ('ya ne krutoi')"
   ]
  },
  {
   "cell_type": "code",
   "execution_count": 15,
   "id": "8339e8ef-129e-49c1-b8f5-30ef466b89a8",
   "metadata": {},
   "outputs": [],
   "source": [
    "## Tabulation rule "
   ]
  },
  {
   "cell_type": "code",
   "execution_count": 23,
   "id": "5d5b6689-122a-434a-aa69-85dc15b6278d",
   "metadata": {},
   "outputs": [
    {
     "name": "stdout",
     "output_type": "stream",
     "text": [
      "ya hochu kushat\n",
      " ya ustal uchit matematiku\n"
     ]
    }
   ],
   "source": [
    "if 99 > 10: \n",
    "    print (\"ya hochu kushat\")\n",
    "if 19 > 14:\n",
    "    print (' ya ustal uchit matematiku')"
   ]
  },
  {
   "cell_type": "code",
   "execution_count": 29,
   "id": "ec6b2326-1dd3-40dc-9743-e93f8f0a686f",
   "metadata": {},
   "outputs": [
    {
     "ename": "IndentationError",
     "evalue": "unexpected indent (1179487394.py, line 4)",
     "output_type": "error",
     "traceback": [
      "\u001b[1;36m  Cell \u001b[1;32mIn[29], line 4\u001b[1;36m\u001b[0m\n\u001b[1;33m    print (\"asdasdasd\")\u001b[0m\n\u001b[1;37m    ^\u001b[0m\n\u001b[1;31mIndentationError\u001b[0m\u001b[1;31m:\u001b[0m unexpected indent\n"
     ]
    }
   ],
   "source": [
    "## Syntax ERROR example \n",
    "if 9 > 2:\n",
    "    print (\"asdasd\")\n",
    "        print (\"asdasdasd\")\n"
   ]
  },
  {
   "cell_type": "markdown",
   "id": "68b00186-fed4-4e78-a255-7d7aa2d9ebfc",
   "metadata": {},
   "source": [
    "Variables examples "
   ]
  },
  {
   "cell_type": "code",
   "execution_count": 38,
   "id": "bdc86b7f-b54d-4b7a-b976-4b2aa0d543c4",
   "metadata": {},
   "outputs": [],
   "source": [
    "x = 5\n",
    "y = \"cheese burger\""
   ]
  },
  {
   "cell_type": "markdown",
   "id": "a71266d4-1906-4c87-a51f-54aaa539b7e6",
   "metadata": {},
   "source": [
    "Comments "
   ]
  },
  {
   "cell_type": "code",
   "execution_count": 42,
   "id": "09057bbf-228e-4c54-8fbd-560fe4cc22dc",
   "metadata": {},
   "outputs": [
    {
     "name": "stdout",
     "output_type": "stream",
     "text": [
      "Hello world\n"
     ]
    }
   ],
   "source": [
    "## this is a comment\n",
    "print (\"Hello world\")"
   ]
  },
  {
   "cell_type": "markdown",
   "id": "2660e050-e38f-4189-a73c-81647de771fe",
   "metadata": {},
   "source": [
    "Python Comments "
   ]
  },
  {
   "cell_type": "code",
   "execution_count": 47,
   "id": "1ad74584-2801-4b8d-8b81-4552e9711055",
   "metadata": {},
   "outputs": [
    {
     "name": "stdout",
     "output_type": "stream",
     "text": [
      "hello master\n"
     ]
    }
   ],
   "source": [
    "#this is a comment \n",
    "print (\"hello master\")"
   ]
  },
  {
   "cell_type": "code",
   "execution_count": 49,
   "id": "8b9f4120-958f-4c90-875b-f83caa4a04de",
   "metadata": {},
   "outputs": [
    {
     "name": "stdout",
     "output_type": "stream",
     "text": [
      "hello mama\n"
     ]
    }
   ],
   "source": [
    "print (\"hello mama\") #this is also a comment "
   ]
  },
  {
   "cell_type": "code",
   "execution_count": 51,
   "id": "001be81e-7cb6-434e-98d7-c098ae6ca67d",
   "metadata": {},
   "outputs": [
    {
     "name": "stdout",
     "output_type": "stream",
     "text": [
      "Cheers teacher\n"
     ]
    }
   ],
   "source": [
    "#print (\"hello world\")\n",
    "print (\"Cheers teacher\")"
   ]
  },
  {
   "cell_type": "markdown",
   "id": "1f3b7836-4d82-4bc4-865f-6d88bb54e07f",
   "metadata": {},
   "source": [
    "multiline comments "
   ]
  },
  {
   "cell_type": "code",
   "execution_count": 54,
   "id": "661b8e8b-d6da-438c-b199-1803ee3ce969",
   "metadata": {},
   "outputs": [
    {
     "name": "stdout",
     "output_type": "stream",
     "text": [
      "hello world\n"
     ]
    }
   ],
   "source": [
    "# first line of comment\n",
    "# second line of comment \n",
    "# third line of comment \n",
    "print (\"hello world\")"
   ]
  },
  {
   "cell_type": "code",
   "execution_count": 58,
   "id": "91b5e7f2-5dbf-42e0-8820-c12fbf55069f",
   "metadata": {},
   "outputs": [
    {
     "name": "stdout",
     "output_type": "stream",
     "text": [
      "hello world\n"
     ]
    }
   ],
   "source": [
    "\"\"\"\n",
    "multi multi line comments bruh\n",
    "i want to eat but im too lazy to cook\n",
    "pampampam\n",
    "\"\"\"\n",
    "print (\"hello world\")"
   ]
  },
  {
   "cell_type": "markdown",
   "id": "c45109a8-0c27-4c64-baa8-60cb7e21288c",
   "metadata": {},
   "source": [
    "Python Variables"
   ]
  },
  {
   "cell_type": "code",
   "execution_count": 61,
   "id": "4173cae3-e3b8-42d1-960b-19faa52c3ba4",
   "metadata": {},
   "outputs": [],
   "source": [
    "#Creating variables "
   ]
  },
  {
   "cell_type": "code",
   "execution_count": 69,
   "id": "c1ecabd4-adee-4bd3-a719-5e606ae5cb36",
   "metadata": {},
   "outputs": [
    {
     "name": "stdout",
     "output_type": "stream",
     "text": [
      "5\n",
      "John\n"
     ]
    }
   ],
   "source": [
    "x = 5\n",
    "y = \"John\"\n",
    "print (x)\n",
    "print (y)"
   ]
  },
  {
   "cell_type": "code",
   "execution_count": 71,
   "id": "9c0c2f92-637e-4ba7-be22-27090208315e",
   "metadata": {},
   "outputs": [
    {
     "name": "stdout",
     "output_type": "stream",
     "text": [
      "sally\n"
     ]
    }
   ],
   "source": [
    "x = 4 # x is of type int\n",
    "x = \"sally\" # x is for type string\n",
    "print (x)"
   ]
  },
  {
   "cell_type": "code",
   "execution_count": 73,
   "id": "3c90798e-9731-403e-8308-801048ebad9d",
   "metadata": {},
   "outputs": [],
   "source": [
    "x = str(3) # x will be '3'\n",
    "y = int(3) # y will be 3\n",
    "z = float(3) # z will be 3.00"
   ]
  },
  {
   "cell_type": "code",
   "execution_count": 75,
   "id": "c0662882-b251-4059-b144-7f6d7b0542d9",
   "metadata": {},
   "outputs": [
    {
     "name": "stdout",
     "output_type": "stream",
     "text": [
      "<class 'int'>\n",
      "<class 'str'>\n"
     ]
    }
   ],
   "source": [
    "x = 5\n",
    "y = \"john\"\n",
    "print (type(x))\n",
    "print (type(y))"
   ]
  },
  {
   "cell_type": "code",
   "execution_count": 77,
   "id": "843bdf50-e741-4875-806a-9b3af73a51c7",
   "metadata": {},
   "outputs": [],
   "source": [
    "x = \"john\" \n",
    "#is th same as \n",
    "x = 'john'"
   ]
  },
  {
   "cell_type": "code",
   "execution_count": 81,
   "id": "736ce333-84cf-4cee-bff7-517c5b4c4cf1",
   "metadata": {},
   "outputs": [],
   "source": [
    "a = 4\n",
    "A = \"sally\"\n",
    "# A will not overwrite a"
   ]
  },
  {
   "cell_type": "markdown",
   "id": "ec8e6453-9a80-43bc-bb48-396ef0ff51c6",
   "metadata": {},
   "source": [
    "Variable Names"
   ]
  },
  {
   "cell_type": "code",
   "execution_count": 83,
   "id": "a4449e51-80c4-4708-a4e7-cd2d167f500a",
   "metadata": {},
   "outputs": [],
   "source": [
    "myvar = \"John\"\n",
    "my_var = \"John\"\n",
    "_my_var = \"John\"\n",
    "myVar = \"JohnPork\"\n",
    "MYVAR = \"JohnPork\"\n",
    "myvar2 = \"john\""
   ]
  },
  {
   "cell_type": "code",
   "execution_count": 85,
   "id": "871dea05-ac16-40e3-aaf9-28c7ea765287",
   "metadata": {},
   "outputs": [],
   "source": [
    "#illegal variable names"
   ]
  },
  {
   "cell_type": "code",
   "execution_count": 87,
   "id": "0cdef317-eadb-4969-9cae-111ee7372b21",
   "metadata": {},
   "outputs": [
    {
     "ename": "SyntaxError",
     "evalue": "invalid decimal literal (3336569637.py, line 1)",
     "output_type": "error",
     "traceback": [
      "\u001b[1;36m  Cell \u001b[1;32mIn[87], line 1\u001b[1;36m\u001b[0m\n\u001b[1;33m    2myvar = \"john\"\u001b[0m\n\u001b[1;37m    ^\u001b[0m\n\u001b[1;31mSyntaxError\u001b[0m\u001b[1;31m:\u001b[0m invalid decimal literal\n"
     ]
    }
   ],
   "source": [
    "2myvar = \"john\"\n",
    "my-var = \"John\"\n",
    "my var = \"John\""
   ]
  },
  {
   "cell_type": "code",
   "execution_count": 89,
   "id": "ea40f7dc-b6d9-4d5d-992e-3f86bd367fe3",
   "metadata": {},
   "outputs": [],
   "source": [
    "#Techniques to make code more readable \n",
    "#camel case "
   ]
  },
  {
   "cell_type": "code",
   "execution_count": 91,
   "id": "dcf278e8-d822-444f-8cd0-a47ce8c01749",
   "metadata": {},
   "outputs": [],
   "source": [
    "myVariableName = \"John\""
   ]
  },
  {
   "cell_type": "code",
   "execution_count": 93,
   "id": "3faf7683-e0de-4aca-8696-aabed1b7ba7b",
   "metadata": {},
   "outputs": [],
   "source": [
    "#pascal case"
   ]
  },
  {
   "cell_type": "code",
   "execution_count": 95,
   "id": "17ef0aee-d457-419b-a6eb-606a2f90aab1",
   "metadata": {},
   "outputs": [],
   "source": [
    "MyVariableName = \"John\""
   ]
  },
  {
   "cell_type": "code",
   "execution_count": 97,
   "id": "4d09b1c6-a3f0-42bc-b54c-0384b522efc2",
   "metadata": {},
   "outputs": [],
   "source": [
    "#snake case"
   ]
  },
  {
   "cell_type": "code",
   "execution_count": 99,
   "id": "c4f9dc8d-4c4e-4cc9-82b3-534d96aab06b",
   "metadata": {},
   "outputs": [],
   "source": [
    "my_variable_name = \"John\""
   ]
  },
  {
   "cell_type": "markdown",
   "id": "3abeb689-dd48-44f5-b8a1-1affa050b9fd",
   "metadata": {},
   "source": [
    "Assign Multiple"
   ]
  },
  {
   "cell_type": "code",
   "execution_count": 103,
   "id": "e074e1aa-b001-4c7a-b855-88ca9e0fe036",
   "metadata": {},
   "outputs": [
    {
     "name": "stdout",
     "output_type": "stream",
     "text": [
      "Orange\n",
      "Banana\n",
      "Cherry\n"
     ]
    }
   ],
   "source": [
    "x,y,z = \"Orange\", \"Banana\", \"Cherry\"\n",
    "print(x)\n",
    "print(y)\n",
    "print(z)"
   ]
  },
  {
   "cell_type": "code",
   "execution_count": 105,
   "id": "75bdb69b-32c1-4114-b97c-dc29406c673b",
   "metadata": {},
   "outputs": [
    {
     "name": "stdout",
     "output_type": "stream",
     "text": [
      "Orange\n",
      "Orange\n",
      "Orange\n"
     ]
    }
   ],
   "source": [
    "x=y=z=\"Orange\"\n",
    "print(x)\n",
    "print(y)\n",
    "print(z)"
   ]
  },
  {
   "cell_type": "code",
   "execution_count": 107,
   "id": "d50f5a1f-9cc0-4569-bb8e-c3b4c18e6249",
   "metadata": {},
   "outputs": [
    {
     "name": "stdout",
     "output_type": "stream",
     "text": [
      "apple\n",
      "banana\n",
      "cherry\n"
     ]
    }
   ],
   "source": [
    "fruits = [\"apple\", \"banana\", \"cherry\"]\n",
    "x,y,z = fruits\n",
    "print(x)\n",
    "print(y)\n",
    "print(z)"
   ]
  },
  {
   "cell_type": "markdown",
   "id": "26a391e2-91bd-4b84-8d4d-a805b54955b7",
   "metadata": {},
   "source": [
    "Output variables"
   ]
  },
  {
   "cell_type": "code",
   "execution_count": 110,
   "id": "1d280471-146b-4775-bc53-9ec3b0d9f2cb",
   "metadata": {},
   "outputs": [
    {
     "name": "stdout",
     "output_type": "stream",
     "text": [
      "Python is awesome\n"
     ]
    }
   ],
   "source": [
    "x = \"Python is awesome\"\n",
    "print(x)"
   ]
  },
  {
   "cell_type": "code",
   "execution_count": 114,
   "id": "71ed5c64-50dd-46b4-9d3a-4c43a2759dec",
   "metadata": {},
   "outputs": [
    {
     "name": "stdout",
     "output_type": "stream",
     "text": [
      "Python is awesome\n"
     ]
    }
   ],
   "source": [
    "x = \"Python\"\n",
    "y = \"is\"\n",
    "z = \"awesome\"\n",
    "print(x,y,z)"
   ]
  },
  {
   "cell_type": "code",
   "execution_count": 116,
   "id": "ecb864f3-bb40-4040-a668-176d5632eb47",
   "metadata": {},
   "outputs": [
    {
     "name": "stdout",
     "output_type": "stream",
     "text": [
      "Python is awesome\n"
     ]
    }
   ],
   "source": [
    "x = \"Python \"\n",
    "y = \"is \"\n",
    "z = \"awesome\"\n",
    "print(x+y+z)"
   ]
  },
  {
   "cell_type": "code",
   "execution_count": 118,
   "id": "34354320-6871-4004-9b39-21c6cee890dc",
   "metadata": {},
   "outputs": [
    {
     "name": "stdout",
     "output_type": "stream",
     "text": [
      "104\n"
     ]
    }
   ],
   "source": [
    "x = 5\n",
    "y = 99\n",
    "print(x+y)"
   ]
  },
  {
   "cell_type": "code",
   "execution_count": 122,
   "id": "119ec3eb-4393-40b8-aff5-781fe68f7473",
   "metadata": {},
   "outputs": [
    {
     "ename": "TypeError",
     "evalue": "unsupported operand type(s) for +: 'int' and 'str'",
     "output_type": "error",
     "traceback": [
      "\u001b[1;31m---------------------------------------------------------------------------\u001b[0m",
      "\u001b[1;31mTypeError\u001b[0m                                 Traceback (most recent call last)",
      "Cell \u001b[1;32mIn[122], line 4\u001b[0m\n\u001b[0;32m      2\u001b[0m x \u001b[38;5;241m=\u001b[39m \u001b[38;5;241m5\u001b[39m\n\u001b[0;32m      3\u001b[0m y \u001b[38;5;241m=\u001b[39m \u001b[38;5;124m\"\u001b[39m\u001b[38;5;124mJohn\u001b[39m\u001b[38;5;124m\"\u001b[39m\n\u001b[1;32m----> 4\u001b[0m \u001b[38;5;28mprint\u001b[39m(x\u001b[38;5;241m+\u001b[39my)\n",
      "\u001b[1;31mTypeError\u001b[0m: unsupported operand type(s) for +: 'int' and 'str'"
     ]
    }
   ],
   "source": [
    "#error\n",
    "x = 5\n",
    "y = \"John\"\n",
    "print(x+y)"
   ]
  },
  {
   "cell_type": "code",
   "execution_count": 126,
   "id": "ea3c2d0d-8245-481c-8598-d7b098ff97a2",
   "metadata": {},
   "outputs": [
    {
     "name": "stdout",
     "output_type": "stream",
     "text": [
      "5 john\n"
     ]
    }
   ],
   "source": [
    "x = 5\n",
    "y = \"john\"\n",
    "print (x,y)"
   ]
  },
  {
   "cell_type": "markdown",
   "id": "beb60bba-6d61-40cb-82f6-f1e2ebe568a7",
   "metadata": {},
   "source": [
    "Global Variables"
   ]
  },
  {
   "cell_type": "code",
   "execution_count": 129,
   "id": "1356d1e7-29b8-43e7-83a8-80b7bc87abbc",
   "metadata": {},
   "outputs": [
    {
     "name": "stdout",
     "output_type": "stream",
     "text": [
      "Python is awesome\n"
     ]
    }
   ],
   "source": [
    "x = \"awesome\"\n",
    "def myFunc():\n",
    "    print(\"Python is \" + x)\n",
    "\n",
    "myFunc()"
   ]
  },
  {
   "cell_type": "code",
   "execution_count": 152,
   "id": "2066a945-23f1-45a4-9791-28ad5e9f9b9f",
   "metadata": {},
   "outputs": [
    {
     "name": "stdout",
     "output_type": "stream",
     "text": [
      "Python is Fantastic\n",
      "Python is awesome\n"
     ]
    }
   ],
   "source": [
    "x = \"awesome\"\n",
    "\n",
    "def newFunc():\n",
    "    x = \"Fantastic\"\n",
    "    print(\"Python is \" + x)\n",
    "\n",
    "newFunc()\n",
    "\n",
    "print(\"Python is \" + x)\n"
   ]
  },
  {
   "cell_type": "code",
   "execution_count": 154,
   "id": "4700c163-8863-4e38-be3c-84a339c19b79",
   "metadata": {},
   "outputs": [],
   "source": [
    "# The global Keyword"
   ]
  },
  {
   "cell_type": "code",
   "execution_count": 158,
   "id": "a6950700-9ef4-45d9-a072-70dbb111f5fb",
   "metadata": {},
   "outputs": [
    {
     "name": "stdout",
     "output_type": "stream",
     "text": [
      "Python is Fanta\n"
     ]
    }
   ],
   "source": [
    "def myFunc():\n",
    "    global x\n",
    "    x = \"Fanta\"\n",
    "\n",
    "myFunc()\n",
    "\n",
    "print(\"Python is \" + x)"
   ]
  },
  {
   "cell_type": "code",
   "execution_count": 160,
   "id": "7df9352d-90cd-47be-b8a6-a95c03cab39f",
   "metadata": {},
   "outputs": [
    {
     "name": "stdout",
     "output_type": "stream",
     "text": [
      "Python is Fanta\n"
     ]
    }
   ],
   "source": [
    "x = \"awesome\"\n",
    "\n",
    "def nyFunc():\n",
    "    global x\n",
    "    x = \"fantast\"\n",
    "\n",
    "myFunc()\n",
    "\n",
    "print(\"Python is \" + x)"
   ]
  },
  {
   "cell_type": "markdown",
   "id": "8e4d6649-1992-4277-b0fd-83e9dd06df26",
   "metadata": {},
   "source": [
    "Python Data types"
   ]
  },
  {
   "cell_type": "code",
   "execution_count": 163,
   "id": "59da698b-a315-4967-a7b6-62034fda4775",
   "metadata": {},
   "outputs": [
    {
     "name": "stdout",
     "output_type": "stream",
     "text": [
      "<class 'int'>\n"
     ]
    }
   ],
   "source": [
    "x = 5\n",
    "print(type(x))"
   ]
  },
  {
   "cell_type": "markdown",
   "id": "96252c2c-5abf-41ed-967c-47122c503031",
   "metadata": {},
   "source": [
    "Python Numbers"
   ]
  },
  {
   "cell_type": "code",
   "execution_count": 168,
   "id": "0d5f1763-5015-4fb1-9e75-c117c72d7e03",
   "metadata": {},
   "outputs": [
    {
     "name": "stdout",
     "output_type": "stream",
     "text": [
      "<class 'int'>\n",
      "<class 'float'>\n",
      "<class 'complex'>\n"
     ]
    }
   ],
   "source": [
    "x = 1 #int\n",
    "y = 2.8 #float\n",
    "z = 1j #complex\n",
    "print(type(x))\n",
    "print(type(y))\n",
    "print(type(z))"
   ]
  },
  {
   "cell_type": "code",
   "execution_count": 172,
   "id": "10f30d5c-d138-43b2-8bd4-06eed8007351",
   "metadata": {},
   "outputs": [
    {
     "name": "stdout",
     "output_type": "stream",
     "text": [
      "<class 'int'>\n",
      "<class 'int'>\n",
      "<class 'int'>\n"
     ]
    }
   ],
   "source": [
    "x = 1\n",
    "y = 245345345345\n",
    "z = -12123123123\n",
    "print(type(x))\n",
    "print(type(y))\n",
    "print(type(z))"
   ]
  },
  {
   "cell_type": "code",
   "execution_count": 174,
   "id": "2daf5dbb-5c13-4f93-9aa0-73a8044efd60",
   "metadata": {},
   "outputs": [
    {
     "name": "stdout",
     "output_type": "stream",
     "text": [
      "<class 'float'>\n",
      "<class 'float'>\n",
      "<class 'float'>\n"
     ]
    }
   ],
   "source": [
    "x = 1.10\n",
    "y = 1.0\n",
    "z = -35.59\n",
    "print(type(x))\n",
    "print(type(y))\n",
    "print(type(z))\n"
   ]
  },
  {
   "cell_type": "code",
   "execution_count": 176,
   "id": "30f31ed1-5888-481c-8859-ce173cd3a7aa",
   "metadata": {},
   "outputs": [
    {
     "name": "stdout",
     "output_type": "stream",
     "text": [
      "<class 'float'>\n",
      "<class 'float'>\n",
      "<class 'float'>\n"
     ]
    }
   ],
   "source": [
    "x = 35e3\n",
    "y = 21E4\n",
    "z = -87.7e100\n",
    "print(type(x))\n",
    "print(type(y))\n",
    "print(type(z))"
   ]
  },
  {
   "cell_type": "code",
   "execution_count": 178,
   "id": "7f1b411a-071b-4df8-865c-ec9a300e14d9",
   "metadata": {},
   "outputs": [
    {
     "name": "stdout",
     "output_type": "stream",
     "text": [
      "<class 'complex'>\n",
      "<class 'complex'>\n",
      "<class 'complex'>\n"
     ]
    }
   ],
   "source": [
    "x = 3+5j\n",
    "y = 5j\n",
    "z = -5j\n",
    "print(type(x))\n",
    "print(type(y))\n",
    "print(type(z))"
   ]
  },
  {
   "cell_type": "code",
   "execution_count": 180,
   "id": "e73a2721-6b08-4b84-bf8c-35225fc67d57",
   "metadata": {},
   "outputs": [
    {
     "name": "stdout",
     "output_type": "stream",
     "text": [
      "1.0\n",
      "2\n",
      "(1+0j)\n",
      "<class 'float'>\n",
      "<class 'int'>\n",
      "<class 'complex'>\n"
     ]
    }
   ],
   "source": [
    "x = 1    # int\n",
    "y = 2.8  # float\n",
    "z = 1j   # complex\n",
    "\n",
    "#convert from int to float:\n",
    "a = float(x)\n",
    "\n",
    "#convert from float to int:\n",
    "b = int(y)\n",
    "\n",
    "#convert from int to complex:\n",
    "c = complex(x)\n",
    "\n",
    "print(a)\n",
    "print(b)\n",
    "print(c)\n",
    "\n",
    "print(type(a))\n",
    "print(type(b))\n",
    "print(type(c)) "
   ]
  },
  {
   "cell_type": "code",
   "execution_count": 182,
   "id": "ee2ac56b-c88f-4d12-a7cc-3acc1022ac61",
   "metadata": {},
   "outputs": [
    {
     "name": "stdout",
     "output_type": "stream",
     "text": [
      "5\n"
     ]
    }
   ],
   "source": [
    "import random\n",
    "\n",
    "print(random.randrange(1,10))"
   ]
  },
  {
   "cell_type": "markdown",
   "id": "334bdebe-a3e5-4b31-a67d-b8ce4ddc2368",
   "metadata": {},
   "source": [
    "Python Casting"
   ]
  },
  {
   "cell_type": "code",
   "execution_count": 185,
   "id": "6690f551-775f-4621-acd3-1b425b6e3739",
   "metadata": {},
   "outputs": [],
   "source": [
    "x = int(1)   # x will be 1\n",
    "y = int(2.8) # y will be 2\n",
    "z = int(\"3\") # z will be 3"
   ]
  },
  {
   "cell_type": "code",
   "execution_count": 187,
   "id": "896c5952-9b07-43e9-a93a-81e0b807fe0e",
   "metadata": {},
   "outputs": [],
   "source": [
    "x = float(1)     # x will be 1.0\n",
    "y = float(2.8)   # y will be 2.8\n",
    "z = float(\"3\")   # z will be 3.0\n",
    "w = float(\"4.2\") # w will be 4.2"
   ]
  },
  {
   "cell_type": "code",
   "execution_count": 189,
   "id": "7992e148-45b2-499c-901b-325c1a785b2d",
   "metadata": {},
   "outputs": [],
   "source": [
    "x = str(\"s1\") # x will be 's1'\n",
    "y = str(2)    # y will be '2'\n",
    "z = str(3.0)  # z will be '3.0'"
   ]
  },
  {
   "cell_type": "markdown",
   "id": "722cc9bb-24ae-4bf4-b455-8f0ff11bc2a4",
   "metadata": {},
   "source": [
    "Python Strings "
   ]
  },
  {
   "cell_type": "code",
   "execution_count": 192,
   "id": "0368152a-507d-4d94-a7b4-dfb8e1d9ea80",
   "metadata": {},
   "outputs": [
    {
     "name": "stdout",
     "output_type": "stream",
     "text": [
      "Hello\n",
      "Hello\n"
     ]
    }
   ],
   "source": [
    "print(\"Hello\")\n",
    "print('Hello')"
   ]
  },
  {
   "cell_type": "code",
   "execution_count": 195,
   "id": "67ee776a-688b-4e2d-9b97-662796788f94",
   "metadata": {},
   "outputs": [
    {
     "name": "stdout",
     "output_type": "stream",
     "text": [
      "It's alright\n",
      "He is called 'Johnny'\n",
      "He is called \"Johnny\"\n"
     ]
    }
   ],
   "source": [
    "print(\"It's alright\")\n",
    "print(\"He is called 'Johnny'\")\n",
    "print('He is called \"Johnny\"')"
   ]
  },
  {
   "cell_type": "code",
   "execution_count": 199,
   "id": "a6dadf34-3abc-4908-a1a6-6faea68acd03",
   "metadata": {},
   "outputs": [
    {
     "name": "stdout",
     "output_type": "stream",
     "text": [
      "hello\n"
     ]
    }
   ],
   "source": [
    "a = \"hello\"\n",
    "print(a)"
   ]
  },
  {
   "cell_type": "code",
   "execution_count": 203,
   "id": "59b8cd3e-4897-46d3-9b79-25bd0d720e09",
   "metadata": {},
   "outputs": [
    {
     "name": "stdout",
     "output_type": "stream",
     "text": [
      "ya ochen silno ustal eto delat\n",
      "sdfsdf sdf sdf \n",
      "sdfg sg sfg \n"
     ]
    }
   ],
   "source": [
    "a = \"\"\"ya ochen silno ustal eto delat\n",
    "sdfsdf sdf sdf \n",
    "sdfg sg sfg \"\"\"\n",
    "print(a)"
   ]
  },
  {
   "cell_type": "code",
   "execution_count": 205,
   "id": "e9529fc8-3980-497e-8038-babd4f46db49",
   "metadata": {},
   "outputs": [
    {
     "name": "stdout",
     "output_type": "stream",
     "text": [
      "sfgoudjf glDFG ;kdf gdfk GK\n",
      "dfg kd\n",
      "'lfg 'dlfkg df'g \n",
      "dfkl g\n",
      "d'lf kg\n",
      "\n"
     ]
    }
   ],
   "source": [
    "a = '''sfgoudjf glDFG ;kdf gdfk GK\n",
    "dfg kd\n",
    "'lfg 'dlfkg df'g \n",
    "dfkl g\n",
    "d'lf kg\n",
    "'''\n",
    "print(a) "
   ]
  },
  {
   "cell_type": "code",
   "execution_count": 209,
   "id": "5dad30da-26d3-43bf-8968-88b2bcbcab99",
   "metadata": {},
   "outputs": [
    {
     "name": "stdout",
     "output_type": "stream",
     "text": [
      "e\n"
     ]
    }
   ],
   "source": [
    "#string are arrays\n",
    "a = \"Hello, world\"\n",
    "print(a[1])"
   ]
  },
  {
   "cell_type": "code",
   "execution_count": 211,
   "id": "13fb18c1-d927-4493-b00e-e4f892bc838c",
   "metadata": {},
   "outputs": [
    {
     "name": "stdout",
     "output_type": "stream",
     "text": [
      "b\n",
      "a\n",
      "n\n",
      "a\n",
      "n\n",
      "a\n"
     ]
    }
   ],
   "source": [
    "for x in \"banana\":\n",
    "    print(x)"
   ]
  },
  {
   "cell_type": "code",
   "execution_count": 213,
   "id": "c606295b-f8aa-4628-a2ea-88250c5af3fb",
   "metadata": {},
   "outputs": [
    {
     "name": "stdout",
     "output_type": "stream",
     "text": [
      "11\n"
     ]
    }
   ],
   "source": [
    "a = \"hello world\"\n",
    "print(len(a))"
   ]
  },
  {
   "cell_type": "code",
   "execution_count": 219,
   "id": "429fbc32-cb07-4b24-9dcd-d5e072097058",
   "metadata": {},
   "outputs": [
    {
     "name": "stdout",
     "output_type": "stream",
     "text": [
      "True\n"
     ]
    }
   ],
   "source": [
    "txt = \"The best things in life are free!\"\n",
    "print(\"free\" in txt)"
   ]
  },
  {
   "cell_type": "code",
   "execution_count": 221,
   "id": "bc7b6186-38f2-4bcd-8244-b320549895c2",
   "metadata": {},
   "outputs": [
    {
     "name": "stdout",
     "output_type": "stream",
     "text": [
      "Yes, 'free' is present.\n"
     ]
    }
   ],
   "source": [
    "txt = \"The best things in life are free!\"\n",
    "if \"free\" in txt:\n",
    "  print(\"Yes, 'free' is present.\")"
   ]
  },
  {
   "cell_type": "code",
   "execution_count": 223,
   "id": "78265da8-7d42-4bcc-959d-f2b9e2d1f507",
   "metadata": {},
   "outputs": [
    {
     "name": "stdout",
     "output_type": "stream",
     "text": [
      "True\n"
     ]
    }
   ],
   "source": [
    "txt = \"The best things in life are free!\"\n",
    "print(\"expensive\" not in txt)"
   ]
  },
  {
   "cell_type": "code",
   "execution_count": 225,
   "id": "53153995-e97e-47a9-90b6-968291bc3bd9",
   "metadata": {},
   "outputs": [
    {
     "name": "stdout",
     "output_type": "stream",
     "text": [
      "No, 'expensive' is NOT present.\n"
     ]
    }
   ],
   "source": [
    " txt = \"The best things in life are free!\"\n",
    "if \"expensive\" not in txt:\n",
    "  print(\"No, 'expensive' is NOT present.\") "
   ]
  },
  {
   "cell_type": "markdown",
   "id": "2d681cf6-11a9-4693-87c1-a1416dd5aa84",
   "metadata": {},
   "source": [
    "Slicing Strings"
   ]
  },
  {
   "cell_type": "code",
   "execution_count": 228,
   "id": "25aadd65-e6df-418d-b96e-d3e0778fe90a",
   "metadata": {},
   "outputs": [
    {
     "name": "stdout",
     "output_type": "stream",
     "text": [
      "llo\n"
     ]
    }
   ],
   "source": [
    "b = \"hello world\"\n",
    "print(b[2:5])"
   ]
  },
  {
   "cell_type": "code",
   "execution_count": 230,
   "id": "adb727d8-9714-4874-aa8e-ecdfcc0ef6e7",
   "metadata": {},
   "outputs": [
    {
     "name": "stdout",
     "output_type": "stream",
     "text": [
      "hello\n"
     ]
    }
   ],
   "source": [
    "b = \"hello world\"\n",
    "print(b[:5])"
   ]
  },
  {
   "cell_type": "code",
   "execution_count": 232,
   "id": "19a588ae-d154-442f-9658-a2f3f917024f",
   "metadata": {},
   "outputs": [
    {
     "name": "stdout",
     "output_type": "stream",
     "text": [
      "llo rolfs\n"
     ]
    }
   ],
   "source": [
    "b = \"hello rolfs\"\n",
    "print(b[2:])"
   ]
  },
  {
   "cell_type": "code",
   "execution_count": 234,
   "id": "0226b701-71a8-4ed8-a618-0cdd385f6021",
   "metadata": {},
   "outputs": [
    {
     "name": "stdout",
     "output_type": "stream",
     "text": [
      "wor\n"
     ]
    }
   ],
   "source": [
    "b = \"hello world\"\n",
    "print(b[-5:-2])"
   ]
  },
  {
   "cell_type": "markdown",
   "id": "524c681a-1ad1-45be-845b-601265933417",
   "metadata": {},
   "source": [
    "Modify strings"
   ]
  },
  {
   "cell_type": "code",
   "execution_count": 237,
   "id": "9c2b3b4e-9e23-428d-973a-af0555399d80",
   "metadata": {},
   "outputs": [
    {
     "name": "stdout",
     "output_type": "stream",
     "text": [
      "HELLO, WORLD!\n"
     ]
    }
   ],
   "source": [
    "a = \"Hello, World!\"\n",
    "print(a.upper())"
   ]
  },
  {
   "cell_type": "code",
   "execution_count": 239,
   "id": "f8cadeaf-e39c-4f0e-b12f-7a2b552a4fd7",
   "metadata": {},
   "outputs": [
    {
     "name": "stdout",
     "output_type": "stream",
     "text": [
      "hello, world!\n"
     ]
    }
   ],
   "source": [
    "a = \"Hello, World!\"\n",
    "print(a.lower())"
   ]
  },
  {
   "cell_type": "code",
   "execution_count": 241,
   "id": "e93d3255-7b9e-4279-aca2-9a26bafc5c35",
   "metadata": {},
   "outputs": [
    {
     "name": "stdout",
     "output_type": "stream",
     "text": [
      "Hello, World!\n"
     ]
    }
   ],
   "source": [
    "a = \" Hello, World! \"\n",
    "print(a.strip()) # returns \"Hello, World!\" "
   ]
  },
  {
   "cell_type": "code",
   "execution_count": 243,
   "id": "3ae3be8b-7ff9-478e-bdca-2aea08171260",
   "metadata": {},
   "outputs": [
    {
     "name": "stdout",
     "output_type": "stream",
     "text": [
      "Jello, World!\n"
     ]
    }
   ],
   "source": [
    "a = \"Hello, World!\"\n",
    "print(a.replace(\"H\", \"J\"))"
   ]
  },
  {
   "cell_type": "code",
   "execution_count": 245,
   "id": "b17d7803-f25c-4eed-992e-b57f6a5ca02e",
   "metadata": {},
   "outputs": [
    {
     "name": "stdout",
     "output_type": "stream",
     "text": [
      "['Hello', ' World!']\n"
     ]
    }
   ],
   "source": [
    "a = \"Hello, World!\"\n",
    "print(a.split(\",\")) # returns ['Hello', ' World!'] "
   ]
  },
  {
   "cell_type": "markdown",
   "id": "d4d06d24-1151-4e45-af57-4ca1b8a93f89",
   "metadata": {},
   "source": [
    "String Concaatenation"
   ]
  },
  {
   "cell_type": "code",
   "execution_count": 248,
   "id": "4e23518e-de41-43e5-98f9-216ff72b243e",
   "metadata": {},
   "outputs": [
    {
     "name": "stdout",
     "output_type": "stream",
     "text": [
      "HelloWorld\n"
     ]
    }
   ],
   "source": [
    "a = \"Hello\"\n",
    "b = \"World\"\n",
    "c = a + b\n",
    "print(c)"
   ]
  },
  {
   "cell_type": "code",
   "execution_count": 250,
   "id": "ac474151-2c04-4462-88f0-b76f26492b2e",
   "metadata": {},
   "outputs": [
    {
     "name": "stdout",
     "output_type": "stream",
     "text": [
      "Hello World\n"
     ]
    }
   ],
   "source": [
    "a = \"Hello\"\n",
    "b = \"World\"\n",
    "c = a + \" \" + b\n",
    "print(c)"
   ]
  },
  {
   "cell_type": "markdown",
   "id": "5e8dc300-7878-43bd-a1cb-b2f7932d3682",
   "metadata": {},
   "source": [
    "Format - Strings"
   ]
  },
  {
   "cell_type": "code",
   "execution_count": 253,
   "id": "1ff33e2b-6620-44c7-83ef-7bab3fc457cc",
   "metadata": {},
   "outputs": [
    {
     "ename": "TypeError",
     "evalue": "can only concatenate str (not \"int\") to str",
     "output_type": "error",
     "traceback": [
      "\u001b[1;31m---------------------------------------------------------------------------\u001b[0m",
      "\u001b[1;31mTypeError\u001b[0m                                 Traceback (most recent call last)",
      "Cell \u001b[1;32mIn[253], line 3\u001b[0m\n\u001b[0;32m      1\u001b[0m \u001b[38;5;66;03m#error\u001b[39;00m\n\u001b[0;32m      2\u001b[0m age \u001b[38;5;241m=\u001b[39m \u001b[38;5;241m36\u001b[39m\n\u001b[1;32m----> 3\u001b[0m txt \u001b[38;5;241m=\u001b[39m \u001b[38;5;124m\"\u001b[39m\u001b[38;5;124mMy name is John I am \u001b[39m\u001b[38;5;124m\"\u001b[39m \u001b[38;5;241m+\u001b[39m age\n\u001b[0;32m      4\u001b[0m \u001b[38;5;28mprint\u001b[39m(txt)\n",
      "\u001b[1;31mTypeError\u001b[0m: can only concatenate str (not \"int\") to str"
     ]
    }
   ],
   "source": [
    "#error\n",
    "age = 36\n",
    "txt = \"My name is John I am \" + age\n",
    "print(txt)"
   ]
  },
  {
   "cell_type": "code",
   "execution_count": 255,
   "id": "2c59f764-653a-410a-9bdf-8f6c95df9f0b",
   "metadata": {},
   "outputs": [
    {
     "name": "stdout",
     "output_type": "stream",
     "text": [
      "My name is John I am 36\n"
     ]
    }
   ],
   "source": [
    "age = 36\n",
    "txt = f\"My name is John I am {age}\"\n",
    "print(txt)"
   ]
  },
  {
   "cell_type": "code",
   "execution_count": 257,
   "id": "9f74802d-2cef-40bb-82c4-7fcae5cd3c86",
   "metadata": {},
   "outputs": [
    {
     "name": "stdout",
     "output_type": "stream",
     "text": [
      "the price is 59 dollars\n"
     ]
    }
   ],
   "source": [
    "price = 59\n",
    "txt = f\"the price is {price} dollars\"\n",
    "print(txt)"
   ]
  },
  {
   "cell_type": "code",
   "execution_count": 259,
   "id": "b7345cfe-a33a-4d9b-a10d-ef62236a1568",
   "metadata": {},
   "outputs": [
    {
     "name": "stdout",
     "output_type": "stream",
     "text": [
      "The price is 59.00 dollars\n"
     ]
    }
   ],
   "source": [
    "price = 59\n",
    "txt = f\"The price is {price:.2f} dollars\"\n",
    "print(txt)"
   ]
  },
  {
   "cell_type": "code",
   "execution_count": 261,
   "id": "2d96a987-4266-4fd7-8452-fb8f60d7cedf",
   "metadata": {},
   "outputs": [
    {
     "name": "stdout",
     "output_type": "stream",
     "text": [
      "The price is 1180 dollars\n"
     ]
    }
   ],
   "source": [
    "txt = f\"The price is {20 * 59} dollars\"\n",
    "print(txt)"
   ]
  },
  {
   "cell_type": "markdown",
   "id": "546e6839-0184-46e8-b111-0a3a61e61bde",
   "metadata": {},
   "source": [
    "Escape Characters"
   ]
  },
  {
   "cell_type": "code",
   "execution_count": 266,
   "id": "a401c789-3f83-4ac9-bb86-2d15e6ae5610",
   "metadata": {},
   "outputs": [
    {
     "ename": "SyntaxError",
     "evalue": "invalid syntax (3311210617.py, line 2)",
     "output_type": "error",
     "traceback": [
      "\u001b[1;36m  Cell \u001b[1;32mIn[266], line 2\u001b[1;36m\u001b[0m\n\u001b[1;33m    txt = \"We are the so-called \"Vikings\" from the north.\"\u001b[0m\n\u001b[1;37m                                 ^\u001b[0m\n\u001b[1;31mSyntaxError\u001b[0m\u001b[1;31m:\u001b[0m invalid syntax\n"
     ]
    }
   ],
   "source": [
    "#error\n",
    "txt = \"We are the so-called \"Vikings\" from the north.\""
   ]
  },
  {
   "cell_type": "code",
   "execution_count": 268,
   "id": "4925f1ec-5e42-439f-8042-62612956c40d",
   "metadata": {},
   "outputs": [],
   "source": [
    "txt = \"We are the so-called \\\"Vikings\\\" from the north.\" "
   ]
  },
  {
   "cell_type": "code",
   "execution_count": null,
   "id": "22de7ef4-4363-4dd1-b016-b4e90ccfa423",
   "metadata": {},
   "outputs": [],
   "source": []
  }
 ],
 "metadata": {
  "kernelspec": {
   "display_name": "Python [conda env:base] *",
   "language": "python",
   "name": "conda-base-py"
  },
  "language_info": {
   "codemirror_mode": {
    "name": "ipython",
    "version": 3
   },
   "file_extension": ".py",
   "mimetype": "text/x-python",
   "name": "python",
   "nbconvert_exporter": "python",
   "pygments_lexer": "ipython3",
   "version": "3.12.7"
  }
 },
 "nbformat": 4,
 "nbformat_minor": 5
}
